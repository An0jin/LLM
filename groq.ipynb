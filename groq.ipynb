{
 "cells": [
  {
   "cell_type": "code",
   "execution_count": 1,
   "id": "52d11a95",
   "metadata": {},
   "outputs": [
    {
     "name": "stdout",
     "output_type": "stream",
     "text": [
      "Defaulting to user installation because normal site-packages is not writeable\n",
      "Requirement already satisfied: langchain_groq in /home/an0jin/.local/lib/python3.12/site-packages (0.3.6)\n",
      "Requirement already satisfied: langchain-core<1.0.0,>=0.3.68 in /home/an0jin/.local/lib/python3.12/site-packages (from langchain_groq) (0.3.69)\n",
      "Requirement already satisfied: groq<1,>=0.29.0 in /home/an0jin/.local/lib/python3.12/site-packages (from langchain_groq) (0.30.0)\n",
      "Requirement already satisfied: anyio<5,>=3.5.0 in /home/an0jin/.local/lib/python3.12/site-packages (from groq<1,>=0.29.0->langchain_groq) (4.9.0)\n",
      "Requirement already satisfied: distro<2,>=1.7.0 in /usr/lib/python3/dist-packages (from groq<1,>=0.29.0->langchain_groq) (1.9.0)\n",
      "Requirement already satisfied: httpx<1,>=0.23.0 in /home/an0jin/.local/lib/python3.12/site-packages (from groq<1,>=0.29.0->langchain_groq) (0.28.1)\n",
      "Requirement already satisfied: pydantic<3,>=1.9.0 in /home/an0jin/.local/lib/python3.12/site-packages (from groq<1,>=0.29.0->langchain_groq) (2.11.7)\n",
      "Requirement already satisfied: sniffio in /home/an0jin/.local/lib/python3.12/site-packages (from groq<1,>=0.29.0->langchain_groq) (1.3.1)\n",
      "Requirement already satisfied: typing-extensions<5,>=4.10 in /home/an0jin/.local/lib/python3.12/site-packages (from groq<1,>=0.29.0->langchain_groq) (4.14.1)\n",
      "Requirement already satisfied: langsmith>=0.3.45 in /home/an0jin/.local/lib/python3.12/site-packages (from langchain-core<1.0.0,>=0.3.68->langchain_groq) (0.4.8)\n",
      "Requirement already satisfied: tenacity!=8.4.0,<10.0.0,>=8.1.0 in /home/an0jin/.local/lib/python3.12/site-packages (from langchain-core<1.0.0,>=0.3.68->langchain_groq) (8.5.0)\n",
      "Requirement already satisfied: jsonpatch<2.0,>=1.33 in /home/an0jin/.local/lib/python3.12/site-packages (from langchain-core<1.0.0,>=0.3.68->langchain_groq) (1.33)\n",
      "Requirement already satisfied: PyYAML>=5.3 in /usr/lib/python3/dist-packages (from langchain-core<1.0.0,>=0.3.68->langchain_groq) (6.0.1)\n",
      "Requirement already satisfied: packaging>=23.2 in /home/an0jin/.local/lib/python3.12/site-packages (from langchain-core<1.0.0,>=0.3.68->langchain_groq) (25.0)\n",
      "Requirement already satisfied: idna>=2.8 in /home/an0jin/.local/lib/python3.12/site-packages (from anyio<5,>=3.5.0->groq<1,>=0.29.0->langchain_groq) (2.10)\n",
      "Requirement already satisfied: certifi in /usr/lib/python3/dist-packages (from httpx<1,>=0.23.0->groq<1,>=0.29.0->langchain_groq) (2023.11.17)\n",
      "Requirement already satisfied: httpcore==1.* in /home/an0jin/.local/lib/python3.12/site-packages (from httpx<1,>=0.23.0->groq<1,>=0.29.0->langchain_groq) (1.0.9)\n",
      "Requirement already satisfied: h11>=0.16 in /home/an0jin/.local/lib/python3.12/site-packages (from httpcore==1.*->httpx<1,>=0.23.0->groq<1,>=0.29.0->langchain_groq) (0.16.0)\n",
      "Requirement already satisfied: jsonpointer>=1.9 in /usr/lib/python3/dist-packages (from jsonpatch<2.0,>=1.33->langchain-core<1.0.0,>=0.3.68->langchain_groq) (2.0)\n",
      "Requirement already satisfied: orjson<4.0.0,>=3.9.14 in /home/an0jin/.local/lib/python3.12/site-packages (from langsmith>=0.3.45->langchain-core<1.0.0,>=0.3.68->langchain_groq) (3.11.0)\n",
      "Requirement already satisfied: requests<3,>=2 in /usr/lib/python3/dist-packages (from langsmith>=0.3.45->langchain-core<1.0.0,>=0.3.68->langchain_groq) (2.31.0)\n",
      "Requirement already satisfied: requests-toolbelt<2.0.0,>=1.0.0 in /home/an0jin/.local/lib/python3.12/site-packages (from langsmith>=0.3.45->langchain-core<1.0.0,>=0.3.68->langchain_groq) (1.0.0)\n",
      "Requirement already satisfied: zstandard<0.24.0,>=0.23.0 in /home/an0jin/.local/lib/python3.12/site-packages (from langsmith>=0.3.45->langchain-core<1.0.0,>=0.3.68->langchain_groq) (0.23.0)\n",
      "Requirement already satisfied: annotated-types>=0.6.0 in /home/an0jin/.local/lib/python3.12/site-packages (from pydantic<3,>=1.9.0->groq<1,>=0.29.0->langchain_groq) (0.7.0)\n",
      "Requirement already satisfied: pydantic-core==2.33.2 in /home/an0jin/.local/lib/python3.12/site-packages (from pydantic<3,>=1.9.0->groq<1,>=0.29.0->langchain_groq) (2.33.2)\n",
      "Requirement already satisfied: typing-inspection>=0.4.0 in /home/an0jin/.local/lib/python3.12/site-packages (from pydantic<3,>=1.9.0->groq<1,>=0.29.0->langchain_groq) (0.4.1)\n",
      "Note: you may need to restart the kernel to use updated packages.\n"
     ]
    }
   ],
   "source": [
    "%pip install langchain_groq"
   ]
  },
  {
   "cell_type": "code",
   "execution_count": 2,
   "id": "ce35ecac",
   "metadata": {},
   "outputs": [
    {
     "name": "stdout",
     "output_type": "stream",
     "text": [
      "Defaulting to user installation because normal site-packages is not writeable\n",
      "Requirement already satisfied: groq in /home/an0jin/.local/lib/python3.12/site-packages (0.30.0)\n",
      "Requirement already satisfied: anyio<5,>=3.5.0 in /home/an0jin/.local/lib/python3.12/site-packages (from groq) (4.9.0)\n",
      "Requirement already satisfied: distro<2,>=1.7.0 in /usr/lib/python3/dist-packages (from groq) (1.9.0)\n",
      "Requirement already satisfied: httpx<1,>=0.23.0 in /home/an0jin/.local/lib/python3.12/site-packages (from groq) (0.28.1)\n",
      "Requirement already satisfied: pydantic<3,>=1.9.0 in /home/an0jin/.local/lib/python3.12/site-packages (from groq) (2.11.7)\n",
      "Requirement already satisfied: sniffio in /home/an0jin/.local/lib/python3.12/site-packages (from groq) (1.3.1)\n",
      "Requirement already satisfied: typing-extensions<5,>=4.10 in /home/an0jin/.local/lib/python3.12/site-packages (from groq) (4.14.1)\n",
      "Requirement already satisfied: idna>=2.8 in /home/an0jin/.local/lib/python3.12/site-packages (from anyio<5,>=3.5.0->groq) (2.10)\n",
      "Requirement already satisfied: certifi in /usr/lib/python3/dist-packages (from httpx<1,>=0.23.0->groq) (2023.11.17)\n",
      "Requirement already satisfied: httpcore==1.* in /home/an0jin/.local/lib/python3.12/site-packages (from httpx<1,>=0.23.0->groq) (1.0.9)\n",
      "Requirement already satisfied: h11>=0.16 in /home/an0jin/.local/lib/python3.12/site-packages (from httpcore==1.*->httpx<1,>=0.23.0->groq) (0.16.0)\n",
      "Requirement already satisfied: annotated-types>=0.6.0 in /home/an0jin/.local/lib/python3.12/site-packages (from pydantic<3,>=1.9.0->groq) (0.7.0)\n",
      "Requirement already satisfied: pydantic-core==2.33.2 in /home/an0jin/.local/lib/python3.12/site-packages (from pydantic<3,>=1.9.0->groq) (2.33.2)\n",
      "Requirement already satisfied: typing-inspection>=0.4.0 in /home/an0jin/.local/lib/python3.12/site-packages (from pydantic<3,>=1.9.0->groq) (0.4.1)\n",
      "Note: you may need to restart the kernel to use updated packages.\n"
     ]
    }
   ],
   "source": [
    "%pip install groq"
   ]
  },
  {
   "cell_type": "code",
   "execution_count": 1,
   "id": "ce6502ad",
   "metadata": {},
   "outputs": [
    {
     "data": {
      "text/plain": [
       "'안녕하세요! 스타크래프트에 대해 알고 싶으시군요! \\n\\n스타크래프트는 블리자드 엔터테인먼트가 개발한 실시간 전략 시뮬레이션 게임으로, 1998년에 처음 출시되었습니다. \\n\\n**게임의 핵심은 다음과 같습니다:**\\n\\n* **3개의 종족:** 테란, 저그, 프로토스 각각의 특징과 강점을 가지고 있습니다.\\n    * **테란:** 인간으로, 뛰어난 기술력을 바탕으로 강력한 무기와 방어 시설을 구축합니다.\\n    * **저그:** 벌레처럼 생긴 종족으로, 빠른 지능과 군대의 숫자로 적을 압도합니다.\\n    * **프로토스:** 고대 문명을 유지하며, 강력한 무기와 기술력을 바탕으로 전투를 이어갑니다.\\n* **자원 확보:** 미네랄과 가스를 채굴하여 유닛과 건물을 생산합니다.\\n* **유닛 생산 및 전투:** 다양한 유닛을 생산하여 적의 유닛을 공격하고 방어합니다.\\n* **기술 개발:** 연구소에서 기술을 개발하여 유닛과 건물을 강화합니다.\\n* **맵 지배:** 게임맵을 확보하여 적의 공격을 막고 자신의 영토를 확장합니다.\\n\\n**스타크래프트의 매력은:**\\n\\n* **깊이 있는 전략:** 유닛 배치, 기술 개발, 자원 관리 등 다양한 전략적 요소가 있습니다.\\n* **빠른 게임 속도:** 게임 속도가 빠르기 때문에 몰입감이 높습니다.\\n* **높은 재미 요소:** 승리의 짜릿함과 패배의 아픔을 동시에 느낄 수 있습니다.\\n* **다양한 게임 모드:** 싱글플레이, 멀티플레이 등 다양한 게임 모드를 즐길 수 있습니다.\\n* **활발한 커뮤니티:** 전 세계적으로 많은 팬들이 있으며, 활발한 커뮤니티가 존재합니다.\\n\\n스타크래프트는 어려울 수 있지만, 뛰어난 전략과 흥미진진한 게임 플레이를 갖춘 게임입니다. 새로운 플레이어에게는 다양한 가이드와 학습 자료가 있으니 걱정하지 마세요! \\n\\n더 궁금한 점이 있다면 언제든지 물어보세요!\\n'"
      ]
     },
     "execution_count": 1,
     "metadata": {},
     "output_type": "execute_result"
    }
   ],
   "source": [
    "from langchain_groq import ChatGroq\n",
    "from langchain_core.prompts import ChatPromptTemplate\n",
    "import os\n",
    "\n",
    "llm = ChatGroq(\n",
    "    model=\"gemma2-9b-it\",\n",
    "    api_key=os.getenv(\"groq\")\n",
    ")\n",
    "\n",
    "prompt = ChatPromptTemplate.from_messages([\n",
    "    (\"system\", \"당신은 친절하고 유익한 AI 조수입니다. 게임에 대해서 설명하는 AI다\"),\n",
    "    (\"human\", \"{question}\")\n",
    "])\n",
    "chain = prompt | llm\n",
    "\n",
    "chain.invoke({\"question\": \"스타크래프트에 대해 설명\"}).content\n",
    "\n"
   ]
  },
  {
   "cell_type": "markdown",
   "id": "c548dac4",
   "metadata": {},
   "source": [
    "# 문제점(07.21 기준)"
   ]
  },
  {
   "cell_type": "code",
   "execution_count": 1,
   "id": "3d580431",
   "metadata": {},
   "outputs": [
    {
     "data": {
      "text/plain": [
       "'대한민국 대통령은 **윤석열** 입니다. 😊 \\n'"
      ]
     },
     "execution_count": 1,
     "metadata": {},
     "output_type": "execute_result"
    }
   ],
   "source": [
    "from langchain_groq import ChatGroq\n",
    "from langchain_core.prompts import ChatPromptTemplate\n",
    "import os\n",
    "\n",
    "llm = ChatGroq(\n",
    "    model=\"gemma2-9b-it\",\n",
    "    api_key=os.getenv(\"groq\")\n",
    ")\n",
    "\n",
    "prompt = ChatPromptTemplate.from_messages([\n",
    "    (\"system\", \"당신은 한국에 대해서 설명하는 AI다\"),\n",
    "    (\"human\", \"{question}\")\n",
    "])\n",
    "chain = prompt | llm\n",
    "\n",
    "chain.invoke({\"question\": \"대한민국 대통령은 누구인가?\"}).content\n",
    "\n"
   ]
  },
  {
   "cell_type": "code",
   "execution_count": null,
   "id": "2d13bcc3",
   "metadata": {},
   "outputs": [
    {
     "name": "stderr",
     "output_type": "stream",
     "text": [
      "/usr/lib/python3.12/pty.py:95: DeprecationWarning: This process (pid=7659) is multi-threaded, use of forkpty() may lead to deadlocks in the child.\n",
      "  pid, fd = os.forkpty()\n"
     ]
    },
    {
     "name": "stdout",
     "output_type": "stream",
     "text": [
      "Defaulting to user installation because normal site-packages is not writeable\n",
      "Requirement already satisfied: langchain_community in /home/an0jin/.local/lib/python3.12/site-packages (0.3.27)\n",
      "Requirement already satisfied: duckduckgo-search in /home/an0jin/.local/lib/python3.12/site-packages (8.1.1)\n",
      "\u001b[31mERROR: Could not find a version that satisfies the requirement langchain_chains (from versions: none)\u001b[0m\u001b[31m\n",
      "\u001b[0m\u001b[31mERROR: No matching distribution found for langchain_chains\u001b[0m\u001b[31m\n",
      "\u001b[0mNote: you may need to restart the kernel to use updated packages.\n"
     ]
    }
   ],
   "source": [
    "%pip install langchain_community duckduckgo-search"
   ]
  },
  {
   "cell_type": "code",
   "execution_count": null,
   "id": "f57a2263",
   "metadata": {},
   "outputs": [
    {
     "ename": "ModuleNotFoundError",
     "evalue": "No module named 'langchain_chains'",
     "output_type": "error",
     "traceback": [
      "\u001b[31m---------------------------------------------------------------------------\u001b[39m",
      "\u001b[31mModuleNotFoundError\u001b[39m                       Traceback (most recent call last)",
      "\u001b[36mCell\u001b[39m\u001b[36m \u001b[39m\u001b[32mIn[6]\u001b[39m\u001b[32m, line 3\u001b[39m\n\u001b[32m      1\u001b[39m \u001b[38;5;28;01mfrom\u001b[39;00m \u001b[34;01mlangchain_groq\u001b[39;00m \u001b[38;5;28;01mimport\u001b[39;00m ChatGroq\n\u001b[32m      2\u001b[39m \u001b[38;5;28;01mfrom\u001b[39;00m \u001b[34;01mlangchain_core\u001b[39;00m\u001b[34;01m.\u001b[39;00m\u001b[34;01mprompts\u001b[39;00m \u001b[38;5;28;01mimport\u001b[39;00m ChatPromptTemplate\n\u001b[32m----> \u001b[39m\u001b[32m3\u001b[39m \u001b[38;5;28;01mfrom\u001b[39;00m \u001b[34;01mlangchain_chains\u001b[39;00m\u001b[34;01m.\u001b[39;00m\u001b[34;01mweb_search\u001b[39;00m \u001b[38;5;28;01mimport\u001b[39;00m WebSearchChain\n\u001b[32m      4\u001b[39m \u001b[38;5;28;01mimport\u001b[39;00m \u001b[34;01mos\u001b[39;00m\n\u001b[32m      6\u001b[39m llm = ChatGroq(\n\u001b[32m      7\u001b[39m     model=\u001b[33m\"\u001b[39m\u001b[33mgemma2-9b-it\u001b[39m\u001b[33m\"\u001b[39m,\n\u001b[32m      8\u001b[39m     api_key=os.getenv(\u001b[33m\"\u001b[39m\u001b[33mgroq\u001b[39m\u001b[33m\"\u001b[39m)\n\u001b[32m      9\u001b[39m )\n",
      "\u001b[31mModuleNotFoundError\u001b[39m: No module named 'langchain_chains'"
     ]
    }
   ],
   "source": [
    "from langchain_groq import ChatGroq\n",
    "from langchain_core.prompts import ChatPromptTemplate\n",
    "from langchain_community.tools import DuckDuckGoSearchRun\n",
    "from langchain.agents import AgentExecutor, create_react_agent\n",
    "import os\n",
    "\n",
    "# 1. LLM 초기화\n",
    "llm = ChatGroq(\n",
    "    model=\"gemma2-9b-it\", # 또는 gemma-7b-it과 같이 더 안정적인 모델 고려\n",
    "    api_key=os.getenv(\"groq\")\n",
    ")\n",
    "\n",
    "# 2. 웹 검색 도구 정의\n",
    "tools = [\n",
    "    DuckDuckGoSearchRun(name=\"web_search\")\n",
    "]\n",
    "\n",
    "# 3. 에이전트 프롬프트 정의\n",
    "# ReAct 에이전트가 필요로 하는 'tools', 'tool_names', 'agent_scratchpad'를\n",
    "# 시스템 프롬프트에 명시적으로 포함하고, ReAct 패턴을 따르도록 강력하게 지시합니다.\n",
    "prompt = ChatPromptTemplate.from_messages([\n",
    "    (\"system\", \"\"\"당신은 한국에 대한 질문에 답변하는 AI입니다. 정확하고 최신 정보를 제공해야 합니다.\n",
    "질문에 답하기 위해 필요한 경우 웹 검색 도구({tool_names})를 사용하세요.\n",
    "\n",
    "당신은 다음 형식으로 추론하고 행동해야 합니다:\n",
    "Thought: (여기서 질문에 답하기 위해 어떤 행동을 해야 할지 추론합니다. 도구를 사용할지, 아니면 최종 답변을 할지 결정합니다.)\n",
    "Action: (수행할 작업의 이름. 사용 가능한 도구 중 하나여야 합니다: {tool_names})\n",
    "Action Input: (액션에 대한 입력. 도구의 입력 형식과 일치해야 합니다.)\n",
    "Observation: (액션의 결과)\n",
    "... (위 Thought/Action/Action Input/Observation을 필요한 만큼 반복)\n",
    "Thought: (최종 답변을 할 때가 되었다고 판단합니다.)\n",
    "Final Answer: (최종 답변)\n",
    "\n",
    "사용 가능한 도구:\n",
    "{tools}\n",
    "\n",
    "{agent_scratchpad}\n",
    "\"\"\"),\n",
    "    (\"human\", \"{input}\"),\n",
    "])\n",
    "\n",
    "# 4. ReAct 에이전트 생성\n",
    "agent = create_react_agent(llm, tools,prompt)\n",
    "\n",
    "# 5. AgentExecutor 생성 및 실행\n",
    "# handle_parsing_errors=True를 추가하여 파싱 오류를 에이전트에게 전달합니다.\n",
    "agent_executor = AgentExecutor(agent=agent, tools=tools, handle_parsing_errors=True)\n",
    "\n",
    "# 에이전트 실행 예시\n",
    "result = agent_executor.invoke({\"input\": \"대한민국 대통령은 누구인가?\"})\n",
    "\n",
    "print(result['output'])"
   ]
  }
 ],
 "metadata": {
  "kernelspec": {
   "display_name": "Python 3",
   "language": "python",
   "name": "python3"
  },
  "language_info": {
   "codemirror_mode": {
    "name": "ipython",
    "version": 3
   },
   "file_extension": ".py",
   "mimetype": "text/x-python",
   "name": "python",
   "nbconvert_exporter": "python",
   "pygments_lexer": "ipython3",
   "version": "3.12.3"
  }
 },
 "nbformat": 4,
 "nbformat_minor": 5
}
